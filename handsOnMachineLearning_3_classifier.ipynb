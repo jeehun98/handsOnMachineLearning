{
  "cells": [
    {
      "cell_type": "code",
      "execution_count": null,
      "metadata": {
        "colab": {
          "base_uri": "https://localhost:8080/"
        },
        "id": "nnCu5eySbBMr",
        "outputId": "31f50ea2-31d6-4580-ba2c-431bb37a94e9"
      },
      "outputs": [
        {
          "output_type": "execute_result",
          "data": {
            "text/plain": [
              "dict_keys(['data', 'target', 'frame', 'categories', 'feature_names', 'target_names', 'DESCR', 'details', 'url'])"
            ]
          },
          "metadata": {},
          "execution_count": 1
        }
      ],
      "source": [
        "from sklearn.datasets import fetch_openml\n",
        "mnist = fetch_openml('mnist_784', version=1, as_frame=False)\n",
        "mnist.keys()"
      ]
    },
    {
      "cell_type": "code",
      "execution_count": null,
      "metadata": {
        "colab": {
          "base_uri": "https://localhost:8080/"
        },
        "id": "ftfqHlp1v6Ez",
        "outputId": "333f9013-2c56-4915-ec97-aafe09277ae8"
      },
      "outputs": [
        {
          "output_type": "execute_result",
          "data": {
            "text/plain": [
              "(70000, 784)"
            ]
          },
          "metadata": {},
          "execution_count": 2
        }
      ],
      "source": [
        "X, y = mnist[\"data\"], mnist[\"target\"]\n",
        "X.shape"
      ]
    },
    {
      "cell_type": "code",
      "execution_count": null,
      "metadata": {
        "colab": {
          "base_uri": "https://localhost:8080/",
          "height": 248
        },
        "id": "fBCmhAh5wNwP",
        "outputId": "d11864ab-99cd-4b7b-ab21-4a2e00971f94"
      },
      "outputs": [
        {
          "output_type": "display_data",
          "data": {
            "text/plain": [
              "<Figure size 432x288 with 1 Axes>"
            ],
            "image/png": "[encoded data removed]"
          },
          "metadata": {
            "needs_background": "light"
          }
        }
      ],
      "source": [
        "%matplotlib inline\n",
        "import matplotlib as mpl\n",
        "import matplotlib.pyplot as plt\n",
        "\n",
        "some_digit = X[0]\n",
        "some_digit_image = some_digit.reshape(28, 28)\n",
        "plt.imshow(some_digit_image, cmap=mpl.cm.binary)\n",
        "plt.axis(\"off\")\n",
        "plt.show()"
      ]
    },
    {
      "cell_type": "code",
      "execution_count": null,
      "metadata": {
        "colab": {
          "base_uri": "https://localhost:8080/",
          "height": 35
        },
        "id": "fUE9IEWCxy8Q",
        "outputId": "e6fb9c17-a289-4def-ab66-1f349d4c5e5a"
      },
      "outputs": [
        {
          "output_type": "execute_result",
          "data": {
            "text/plain": [
              "'5'"
            ],
            "application/vnd.google.colaboratory.intrinsic+json": {
              "type": "string"
            }
          },
          "metadata": {},
          "execution_count": 4
        }
      ],
      "source": [
        "y[0]"
      ]
    },
    {
      "cell_type": "code",
      "execution_count": null,
      "metadata": {
        "id": "H89jM9nSx5Vc"
      },
      "outputs": [],
      "source": [
        "import numpy as np\n",
        "\n",
        "y = y.astype(np.uint8)"
      ]
    },
    {
      "cell_type": "code",
      "execution_count": null,
      "metadata": {
        "id": "06rtO_Us4Gzq"
      },
      "outputs": [],
      "source": [
        "X_train, X_test, y_train, y_test = X[:60000], X[60000:], y[:60000], y[60000:]"
      ]
    },
    {
      "cell_type": "markdown",
      "source": [
        "이진 분류기 훈련"
      ],
      "metadata": {
        "id": "upvMuXwI1gjf"
      }
    },
    {
      "cell_type": "code",
      "execution_count": null,
      "metadata": {
        "id": "6VLmCKit-U3d"
      },
      "outputs": [],
      "source": [
        "y_train_5 = (y_train == 5)\n",
        "y_test_5 = (y_test == 5)"
      ]
    },
    {
      "cell_type": "code",
      "execution_count": null,
      "metadata": {
        "colab": {
          "base_uri": "https://localhost:8080/"
        },
        "id": "dcPUN4_v-a4C",
        "outputId": "0d3889e4-a8ab-4ef7-e147-86e0d180c408"
      },
      "outputs": [
        {
          "output_type": "execute_result",
          "data": {
            "text/plain": [
              "SGDClassifier(random_state=42)"
            ]
          },
          "metadata": {},
          "execution_count": 8
        }
      ],
      "source": [
        "from sklearn.linear_model import SGDClassifier\n",
        "\n",
        "sgd_clf = SGDClassifier(random_state=42)\n",
        "sgd_clf.fit(X_train, y_train_5)"
      ]
    },
    {
      "cell_type": "code",
      "execution_count": null,
      "metadata": {
        "colab": {
          "base_uri": "https://localhost:8080/"
        },
        "id": "bYekATl3-czo",
        "outputId": "01a22784-63f7-46f9-c004-96128fcfa233"
      },
      "outputs": [
        {
          "output_type": "execute_result",
          "data": {
            "text/plain": [
              "array([ True])"
            ]
          },
          "metadata": {},
          "execution_count": 9
        }
      ],
      "source": [
        "sgd_clf.predict([some_digit])"
      ]
    },
    {
      "cell_type": "markdown",
      "source": [
        "교차 검증을 사용한 정확도 측정"
      ],
      "metadata": {
        "id": "ySFE_8Oo2SWl"
      }
    },
    {
      "cell_type": "code",
      "execution_count": null,
      "metadata": {
        "colab": {
          "base_uri": "https://localhost:8080/"
        },
        "id": "cVmqjQhrPhOt",
        "outputId": "28c20bc8-eb42-4542-fe7d-d4e5c4c2c516"
      },
      "outputs": [
        {
          "output_type": "execute_result",
          "data": {
            "text/plain": [
              "array([0.95035, 0.96035, 0.9604 ])"
            ]
          },
          "metadata": {},
          "execution_count": 10
        }
      ],
      "source": [
        "from sklearn.model_selection import cross_val_score\n",
        "cross_val_score(sgd_clf, X_train, y_train_5, cv=3, scoring=\"accuracy\")"
      ]
    },
    {
      "cell_type": "markdown",
      "source": [
        "오차 행렬"
      ],
      "metadata": {
        "id": "E-Vs5u7X3V8Z"
      }
    },
    {
      "cell_type": "code",
      "execution_count": null,
      "metadata": {
        "id": "p5BoXMb7_UXG"
      },
      "outputs": [],
      "source": [
        "from sklearn.model_selection import cross_val_predict\n",
        "\n",
        "y_train_pred = cross_val_predict(sgd_clf, X_train, y_train_5, cv=3)"
      ]
    },
    {
      "cell_type": "code",
      "execution_count": null,
      "metadata": {
        "colab": {
          "base_uri": "https://localhost:8080/"
        },
        "id": "kCdUFbgCJOue",
        "outputId": "c0b848dd-ed25-4b0c-bff0-77170a016285"
      },
      "outputs": [
        {
          "output_type": "execute_result",
          "data": {
            "text/plain": [
              "array([[53892,   687],\n",
              "       [ 1891,  3530]])"
            ]
          },
          "metadata": {},
          "execution_count": 12
        }
      ],
      "source": [
        "from sklearn.metrics import confusion_matrix\n",
        "confusion_matrix(y_train_5, y_train_pred)"
      ]
    },
    {
      "cell_type": "markdown",
      "source": [
        "정밀도와 재현율"
      ],
      "metadata": {
        "id": "faArgIHT7hgz"
      }
    },
    {
      "cell_type": "code",
      "execution_count": null,
      "metadata": {
        "colab": {
          "base_uri": "https://localhost:8080/"
        },
        "id": "dGJ1XbzpJcFf",
        "outputId": "ceda273a-0503-4b20-a919-c753a89502fb"
      },
      "outputs": [
        {
          "output_type": "execute_result",
          "data": {
            "text/plain": [
              "0.8370879772350012"
            ]
          },
          "metadata": {},
          "execution_count": 13
        }
      ],
      "source": [
        "from sklearn.metrics import precision_score, recall_score\n",
        "precision_score(y_train_5, y_train_pred)"
      ]
    },
    {
      "cell_type": "code",
      "execution_count": null,
      "metadata": {
        "colab": {
          "base_uri": "https://localhost:8080/"
        },
        "id": "IKkrhy1dJeSl",
        "outputId": "991471d6-db85-44e9-fa4e-4538a7cd8e7b"
      },
      "outputs": [
        {
          "output_type": "execute_result",
          "data": {
            "text/plain": [
              "0.6511713705958311"
            ]
          },
          "metadata": {},
          "execution_count": 14
        }
      ],
      "source": [
        "recall_score(y_train_5, y_train_pred)"
      ]
    },
    {
      "cell_type": "code",
      "execution_count": null,
      "metadata": {
        "colab": {
          "base_uri": "https://localhost:8080/"
        },
        "id": "-2UCOTC6JtrV",
        "outputId": "3293ea67-9de8-44de-de25-34a740bf35d2"
      },
      "outputs": [
        {
          "output_type": "execute_result",
          "data": {
            "text/plain": [
              "0.7325171197343846"
            ]
          },
          "metadata": {},
          "execution_count": 15
        }
      ],
      "source": [
        "from sklearn.metrics import f1_score\n",
        "f1_score(y_train_5, y_train_pred)"
      ]
    },
    {
      "cell_type": "code",
      "source": [
        "정밀도/재현율 트레이드오프"
      ],
      "metadata": {
        "id": "gYbUZ9aN9TYe"
      },
      "execution_count": null,
      "outputs": []
    },
    {
      "cell_type": "code",
      "execution_count": null,
      "metadata": {
        "colab": {
          "base_uri": "https://localhost:8080/"
        },
        "id": "L6kWN9zuJ08b",
        "outputId": "4730c7c5-b712-436e-a2ba-4896947fee2c"
      },
      "outputs": [
        {
          "output_type": "execute_result",
          "data": {
            "text/plain": [
              "array([2164.22030239])"
            ]
          },
          "metadata": {},
          "execution_count": 16
        }
      ],
      "source": [
        "y_scores = sgd_clf.decision_function([some_digit])\n",
        "y_scores"
      ]
    },
    {
      "cell_type": "code",
      "execution_count": null,
      "metadata": {
        "colab": {
          "base_uri": "https://localhost:8080/"
        },
        "id": "i0gmmATwJ4kc",
        "outputId": "21b0e56b-7f8b-4e3e-bdd5-abf524904ae9"
      },
      "outputs": [
        {
          "output_type": "execute_result",
          "data": {
            "text/plain": [
              "array([ True])"
            ]
          },
          "metadata": {},
          "execution_count": 17
        }
      ],
      "source": [
        "threshold = 0\n",
        "y_some_digit_pred = (y_scores > threshold)\n",
        "y_some_digit_pred"
      ]
    },
    {
      "cell_type": "code",
      "execution_count": null,
      "metadata": {
        "colab": {
          "base_uri": "https://localhost:8080/"
        },
        "id": "6wG848P7KPGD",
        "outputId": "8248bb1a-85af-4c3b-bc75-af32196e4865"
      },
      "outputs": [
        {
          "output_type": "execute_result",
          "data": {
            "text/plain": [
              "array([False])"
            ]
          },
          "metadata": {},
          "execution_count": 18
        }
      ],
      "source": [
        "threshold = 8000\n",
        "y_some_digit_pred = (y_scores > threshold)\n",
        "y_some_digit_pred"
      ]
    },
    {
      "cell_type": "code",
      "execution_count": null,
      "metadata": {
        "id": "8IEHhiOxKvOJ"
      },
      "outputs": [],
      "source": [
        "y_scores = cross_val_predict(sgd_clf, X_train, y_train_5, cv=3, method=\"decision_function\")"
      ]
    },
    {
      "cell_type": "code",
      "execution_count": null,
      "metadata": {
        "id": "LvkqH9vjKd8N"
      },
      "outputs": [],
      "source": [
        "from sklearn.metrics import precision_recall_curve\n",
        "\n",
        "precisions, recalls, thresholds = precision_recall_curve(y_train_5, y_scores[:, 1])"
      ]
    },
    {
      "cell_type": "code",
      "execution_count": null,
      "metadata": {
        "colab": {
          "base_uri": "https://localhost:8080/",
          "height": 288
        },
        "id": "ZJTbi_c2K841",
        "outputId": "a730d2c3-a985-48ec-b724-a93fae3c1d41"
      },
      "outputs": [
        {
          "output_type": "display_data",
          "data": {
            "text/plain": [
              "<Figure size 576x288 with 1 Axes>"
            ],
            "image/png": "[encoded data removed]"
          },
          "metadata": {
            "needs_background": "light"
          }
        }
      ],
      "source": [
        "def plot_precision_recall_vs_threshold(precisions, recalls, thresholds):\n",
        "    plt.plot(thresholds, precisions[:-1], \"b--\", label=\"Precision\", linewidth=2)\n",
        "    plt.plot(thresholds, recalls[:-1], \"g-\", label=\"Recall\", linewidth=2)\n",
        "    plt.legend(loc=\"center right\", fontsize=16) # Not shown in the book\n",
        "    plt.xlabel(\"Threshold\", fontsize=16)        # Not shown\n",
        "    plt.grid(True)                              # Not shown\n",
        "    plt.axis([-50000, 50000, 0, 1])             # Not shown\n",
        "\n",
        "\n",
        "\n",
        "recall_90_precision = recalls[np.argmax(precisions >= 0.90)]\n",
        "threshold_90_precision = thresholds[np.argmax(precisions >= 0.90)]\n",
        "\n",
        "\n",
        "plt.figure(figsize=(8, 4))                                                                  # Not shown\n",
        "plot_precision_recall_vs_threshold(precisions, recalls, thresholds)\n",
        "plt.plot([threshold_90_precision, threshold_90_precision], [0., 0.9], \"r:\")                 # Not shown\n",
        "plt.plot([-50000, threshold_90_precision], [0.9, 0.9], \"r:\")                                # Not shown\n",
        "plt.plot([-50000, threshold_90_precision], [recall_90_precision, recall_90_precision], \"r:\")# Not shown\n",
        "plt.plot([threshold_90_precision], [0.9], \"ro\")                                             # Not shown\n",
        "plt.plot([threshold_90_precision], [recall_90_precision], \"ro\")                             # Not shown\n",
        "plt.show()"
      ]
    },
    {
      "cell_type": "code",
      "execution_count": null,
      "metadata": {
        "id": "ZJRDrrcLLKoe"
      },
      "outputs": [],
      "source": [
        "threshold_90_precision = thresholds[np.argmax(precisions >= 0.90)]"
      ]
    },
    {
      "cell_type": "code",
      "execution_count": null,
      "metadata": {
        "id": "_aPHm9QgLLnO"
      },
      "outputs": [],
      "source": [
        "y_train_pred_90 = (y_scores >= threshold_90_precision)"
      ]
    },
    {
      "cell_type": "code",
      "execution_count": null,
      "metadata": {
        "colab": {
          "base_uri": "https://localhost:8080/"
        },
        "id": "hN067ssKLOGc",
        "outputId": "2cd14cc1-b54f-431b-b568-7a4abb7b1ca1"
      },
      "outputs": [
        {
          "output_type": "execute_result",
          "data": {
            "text/plain": [
              "0.9000345901072293"
            ]
          },
          "metadata": {},
          "execution_count": 24
        }
      ],
      "source": [
        "precision_score(y_train_5, y_train_pred_90)"
      ]
    },
    {
      "cell_type": "code",
      "execution_count": null,
      "metadata": {
        "colab": {
          "base_uri": "https://localhost:8080/"
        },
        "id": "OEwanX4WLRze",
        "outputId": "9dfffeef-9481-428b-e7fa-5797304a1aa5"
      },
      "outputs": [
        {
          "output_type": "execute_result",
          "data": {
            "text/plain": [
              "0.4799852425751706"
            ]
          },
          "metadata": {},
          "execution_count": 25
        }
      ],
      "source": [
        "recall_score(y_train_5, y_train_pred_90)"
      ]
    },
    {
      "cell_type": "markdown",
      "source": [
        "ROC 곡선"
      ],
      "metadata": {
        "id": "vCVaRk59BgNp"
      }
    },
    {
      "cell_type": "code",
      "execution_count": null,
      "metadata": {
        "id": "oV13FzdTLj9o"
      },
      "outputs": [],
      "source": [
        "from sklearn. metrics import roc_curve\n",
        "\n",
        "fpr, tpr, thresholds = roc_curve(y_train_5, y_scores)"
      ]
    },
    {
      "cell_type": "code",
      "execution_count": null,
      "metadata": {
        "colab": {
          "base_uri": "https://localhost:8080/",
          "height": 397
        },
        "id": "t9AN_ex0LlkL",
        "outputId": "9c6bcf23-0f83-47e3-fcdf-7f8a218d36cf"
      },
      "outputs": [
        {
          "output_type": "display_data",
          "data": {
            "text/plain": [
              "<Figure size 576x432 with 1 Axes>"
            ],
            "image/png": "[encoded data removed]"
          },
          "metadata": {
            "needs_background": "light"
          }
        }
      ],
      "source": [
        "def plot_roc_curve(fpr, tpr, label=None):\n",
        "    plt.plot(fpr, tpr, linewidth=2, label=label)\n",
        "    plt.plot([0, 1], [0, 1], 'k--') # 대각 점선\n",
        "    plt.axis([0, 1, 0, 1])                                    # Not shown in the book\n",
        "    plt.xlabel('False Positive Rate (Fall-Out)', fontsize=16) # Not shown\n",
        "    plt.ylabel('True Positive Rate (Recall)', fontsize=16)    # Not shown\n",
        "    plt.grid(True)                                            # Not shown\n",
        "\n",
        "plt.figure(figsize=(8, 6))                                    # Not shown\n",
        "plot_roc_curve(fpr, tpr)\n",
        "fpr_90 = fpr[np.argmax(tpr >= recall_90_precision)]           # Not shown\n",
        "plt.plot([fpr_90, fpr_90], [0., recall_90_precision], \"r:\")   # Not shown\n",
        "plt.plot([0.0, fpr_90], [recall_90_precision, recall_90_precision], \"r:\")  # Not shown\n",
        "plt.plot([fpr_90], [recall_90_precision], \"ro\")               # Not shown\n",
        "plt.show()"
      ]
    },
    {
      "cell_type": "code",
      "execution_count": null,
      "metadata": {
        "colab": {
          "base_uri": "https://localhost:8080/"
        },
        "id": "4WwsdML4L8VL",
        "outputId": "cf6e4392-71fa-4ebb-d5a0-a774fae674d2"
      },
      "outputs": [
        {
          "output_type": "execute_result",
          "data": {
            "text/plain": [
              "0.9604938554008616"
            ]
          },
          "metadata": {},
          "execution_count": 28
        }
      ],
      "source": [
        "from sklearn.metrics import roc_auc_score\n",
        "\n",
        "roc_auc_score(y_train_5, y_scores)"
      ]
    },
    {
      "cell_type": "code",
      "execution_count": null,
      "metadata": {
        "id": "h3AjiDtvMX06"
      },
      "outputs": [],
      "source": [
        "from sklearn.ensemble import RandomForestClassifier\n",
        "forest_clf = RandomForestClassifier(n_estimators=100, random_state=42)\n",
        "y_probas_forest = cross_val_predict(forest_clf, X_train, y_train_5, cv=3, method=\"predict_proba\")"
      ]
    },
    {
      "cell_type": "code",
      "execution_count": null,
      "metadata": {
        "id": "-0OM2L2dMo9c"
      },
      "outputs": [],
      "source": [
        "y_scores_forest = y_probas_forest[:, 1] # 점수 = 양성 클래스의 확률\n",
        "fpr_forest, tpr_forest, thresholds_forest = roc_curve(y_train_5,y_scores_forest)"
      ]
    },
    {
      "cell_type": "code",
      "execution_count": null,
      "metadata": {
        "colab": {
          "base_uri": "https://localhost:8080/",
          "height": 397
        },
        "id": "pL0h896SMys2",
        "outputId": "3614171b-b025-4b7c-f8fc-24e4a01ee3b1"
      },
      "outputs": [
        {
          "output_type": "display_data",
          "data": {
            "text/plain": [
              "<Figure size 576x432 with 1 Axes>"
            ],
            "image/png": "[encoded data removed]"
          },
          "metadata": {
            "needs_background": "light"
          }
        }
      ],
      "source": [
        "recall_for_forest = tpr_forest[np.argmax(fpr_forest >= fpr_90)]\n",
        "\n",
        "plt.figure(figsize=(8, 6))\n",
        "plt.plot(fpr, tpr, \"b:\", linewidth=2, label=\"SGD\")\n",
        "plot_roc_curve(fpr_forest, tpr_forest, \"Random Forest\")\n",
        "plt.plot([fpr_90, fpr_90], [0., recall_90_precision], \"r:\")\n",
        "plt.plot([0.0, fpr_90], [recall_90_precision, recall_90_precision], \"r:\")\n",
        "plt.plot([fpr_90], [recall_90_precision], \"ro\")\n",
        "plt.plot([fpr_90, fpr_90], [0., recall_for_forest], \"r:\")\n",
        "plt.plot([fpr_90], [recall_for_forest], \"ro\")\n",
        "plt.grid(True)\n",
        "plt.legend(loc=\"lower right\", fontsize=16)\n",
        "plt.show()"
      ]
    },
    {
      "cell_type": "code",
      "execution_count": null,
      "metadata": {
        "colab": {
          "base_uri": "https://localhost:8080/"
        },
        "id": "y1nx6fvJNB3p",
        "outputId": "08772468-7d1c-4b4f-cc5a-bb5a13f9eb99"
      },
      "outputs": [
        {
          "output_type": "execute_result",
          "data": {
            "text/plain": [
              "0.9983436731328145"
            ]
          },
          "metadata": {},
          "execution_count": 32
        }
      ],
      "source": [
        "roc_auc_score(y_train_5, y_scores_forest)"
      ]
    },
    {
      "cell_type": "markdown",
      "source": [
        "3.4 다중분류"
      ],
      "metadata": {
        "id": "NAFcyK5EW0ep"
      }
    },
    {
      "cell_type": "code",
      "execution_count": null,
      "metadata": {
        "colab": {
          "base_uri": "https://localhost:8080/"
        },
        "id": "KdudToY1NFSQ",
        "outputId": "3b1b0ad7-f857-4d8f-ee86-e92a29a02b91"
      },
      "outputs": [
        {
          "output_type": "execute_result",
          "data": {
            "text/plain": [
              "array([5], dtype=uint8)"
            ]
          },
          "metadata": {},
          "execution_count": 33
        }
      ],
      "source": [
        "from sklearn.svm import SVC\n",
        "\n",
        "svm_clf = SVC(gamma=\"auto\", random_state=42)\n",
        "svm_clf.fit(X_train[:1000], y_train[:1000]) # y_train_5이 아니라 y_train입니다\n",
        "svm_clf.predict([some_digit])"
      ]
    },
    {
      "cell_type": "code",
      "execution_count": null,
      "metadata": {
        "colab": {
          "base_uri": "https://localhost:8080/"
        },
        "id": "7UwsYXZxNUsL",
        "outputId": "3ec25b14-da17-46b6-97fe-d76cdd18f3a8"
      },
      "outputs": [
        {
          "output_type": "execute_result",
          "data": {
            "text/plain": [
              "array([[ 2.81585438,  7.09167958,  3.82972099,  0.79365551,  5.8885703 ,\n",
              "         9.29718395,  1.79862509,  8.10392157, -0.228207  ,  4.83753243]])"
            ]
          },
          "metadata": {},
          "execution_count": 34
        }
      ],
      "source": [
        "some_digit_score = svm_clf.decision_function([some_digit])\n",
        "some_digit_score"
      ]
    },
    {
      "cell_type": "code",
      "execution_count": null,
      "metadata": {
        "colab": {
          "base_uri": "https://localhost:8080/"
        },
        "id": "UmgIUF9dPCvo",
        "outputId": "533c3ec1-29f8-4e6f-e9ec-90d226bae302"
      },
      "outputs": [
        {
          "output_type": "execute_result",
          "data": {
            "text/plain": [
              "OneVsRestClassifier(estimator=SVC(gamma='auto', random_state=42))"
            ]
          },
          "metadata": {},
          "execution_count": 36
        }
      ],
      "source": [
        "from sklearn.multiclass import OneVsRestClassifier\n",
        "ovr_clf = OneVsRestClassifier(SVC(gamma=\"auto\", random_state=42))\n",
        "ovr_clf.fit(X_train[:1000], y_train[:1000])\n"
      ]
    },
    {
      "cell_type": "code",
      "source": [
        "ovr_clf.predict([some_digit])"
      ],
      "metadata": {
        "colab": {
          "base_uri": "https://localhost:8080/"
        },
        "id": "BYzUD5NAd5zs",
        "outputId": "260eb1f8-760a-4e4b-fb06-b2835d437990"
      },
      "execution_count": null,
      "outputs": [
        {
          "output_type": "execute_result",
          "data": {
            "text/plain": [
              "array([5], dtype=uint8)"
            ]
          },
          "metadata": {},
          "execution_count": 37
        }
      ]
    },
    {
      "cell_type": "code",
      "source": [
        "sgd_clf.fit(X_train[:10000], y_train[:10000])\n",
        "sgd_clf.predict([some_digit])"
      ],
      "metadata": {
        "colab": {
          "base_uri": "https://localhost:8080/"
        },
        "id": "B573wfzzeE1u",
        "outputId": "b9f1b4dd-2049-4903-f70b-da23fe5cb1ea"
      },
      "execution_count": null,
      "outputs": [
        {
          "output_type": "execute_result",
          "data": {
            "text/plain": [
              "array([5], dtype=uint8)"
            ]
          },
          "metadata": {},
          "execution_count": 40
        }
      ]
    },
    {
      "cell_type": "code",
      "source": [
        "sgd_clf.decision_function([some_digit])"
      ],
      "metadata": {
        "colab": {
          "base_uri": "https://localhost:8080/"
        },
        "id": "mt9I-FlsePRW",
        "outputId": "1b1ff0f1-7c3c-42af-b02b-c1235353ed86"
      },
      "execution_count": null,
      "outputs": [
        {
          "output_type": "execute_result",
          "data": {
            "text/plain": [
              "array([[-353933.70144081, -456278.52453021, -118803.17830956,\n",
              "          -9739.18440026, -380798.71504636,   37722.36441629,\n",
              "        -361783.77920629, -252474.49554937, -142313.41302712,\n",
              "        -199056.44166569]])"
            ]
          },
          "metadata": {},
          "execution_count": 41
        }
      ]
    },
    {
      "cell_type": "code",
      "source": [
        "from sklearn.model_selection import cross_val_score\n",
        "cross_val_score(sgd_clf, X_train, y_train_5, cv=3, scoring=\"accuracy\")"
      ],
      "metadata": {
        "colab": {
          "base_uri": "https://localhost:8080/"
        },
        "id": "dqPCEnf8W8zX",
        "outputId": "4efab025-52db-47f5-b3fb-9950c5cf0345"
      },
      "execution_count": null,
      "outputs": [
        {
          "output_type": "execute_result",
          "data": {
            "text/plain": [
              "array([0.95035, 0.96035, 0.9604 ])"
            ]
          },
          "metadata": {},
          "execution_count": 42
        }
      ]
    },
    {
      "cell_type": "code",
      "source": [
        "from sklearn.preprocessing import StandardScaler\n",
        "scaler = StandardScaler()\n",
        "X_train_scaler = scaler.fit_transform(X_train.astype(np.float64))\n",
        "cross_val_score(sgd_clf, X_train_scaler, y_train, cv=3, scoring=\"accuracy\")"
      ],
      "metadata": {
        "colab": {
          "base_uri": "https://localhost:8080/"
        },
        "id": "EEqfV2jwfHpr",
        "outputId": "7b1181a5-cd17-454e-f4d2-0a322b25f57e"
      },
      "execution_count": null,
      "outputs": [
        {
          "output_type": "execute_result",
          "data": {
            "text/plain": [
              "array([0.8983, 0.891 , 0.9018])"
            ]
          },
          "metadata": {},
          "execution_count": 44
        }
      ]
    },
    {
      "cell_type": "markdown",
      "source": [
        "3.5 에러 분석"
      ],
      "metadata": {
        "id": "aytdS3uCD6wn"
      }
    },
    {
      "cell_type": "code",
      "source": [
        "y_train_pred = cross_val_predict(sgd_clf, X_train_scaler, y_train, cv=3)\n",
        "conf_mx = confusion_matrix(y_train, y_train_pred)\n",
        "conf_mx"
      ],
      "metadata": {
        "colab": {
          "base_uri": "https://localhost:8080/"
        },
        "id": "z0xAHrNUe6x0",
        "outputId": "5698f0c7-571f-462c-f9e8-246572a6035f"
      },
      "execution_count": null,
      "outputs": [
        {
          "output_type": "execute_result",
          "data": {
            "text/plain": [
              "array([[5577,    0,   22,    5,    8,   43,   36,    6,  225,    1],\n",
              "       [   0, 6400,   37,   24,    4,   44,    4,    7,  212,   10],\n",
              "       [  27,   27, 5220,   92,   73,   27,   67,   36,  378,   11],\n",
              "       [  22,   17,  117, 5227,    2,  203,   27,   40,  403,   73],\n",
              "       [  12,   14,   41,    9, 5182,   12,   34,   27,  347,  164],\n",
              "       [  27,   15,   30,  168,   53, 4444,   75,   14,  535,   60],\n",
              "       [  30,   15,   42,    3,   44,   97, 5552,    3,  131,    1],\n",
              "       [  21,   10,   51,   30,   49,   12,    3, 5684,  195,  210],\n",
              "       [  17,   63,   48,   86,    3,  126,   25,   10, 5429,   44],\n",
              "       [  25,   18,   30,   64,  118,   36,    1,  179,  371, 5107]])"
            ]
          },
          "metadata": {},
          "execution_count": 52
        }
      ]
    },
    {
      "cell_type": "code",
      "source": [
        "plt.matshow(conf_mx, cmap=plt.cm.gray)\n",
        "plt.show()"
      ],
      "metadata": {
        "colab": {
          "base_uri": "https://localhost:8080/",
          "height": 275
        },
        "id": "4ppJ2cAnmZUX",
        "outputId": "bf13ce44-f342-4978-c253-752fed1f62ba"
      },
      "execution_count": null,
      "outputs": [
        {
          "output_type": "display_data",
          "data": {
            "text/plain": [
              "<Figure size 288x288 with 1 Axes>"
            ],
            "image/png": "[encoded data removed]"
          },
          "metadata": {
            "needs_background": "light"
          }
        }
      ]
    },
    {
      "cell_type": "code",
      "source": [
        "row_sums = conf_mx.sum(axis=1, keepdims=True)\n",
        "norm_conf_mx = conf_mx / row_sums"
      ],
      "metadata": {
        "id": "e1Dq2kZcvD2Q"
      },
      "execution_count": null,
      "outputs": []
    },
    {
      "cell_type": "code",
      "source": [
        "np.fill_diagonal(norm_conf_mx, 0)\n",
        "plt.matshow(norm_conf_mx, cmap=plt.cm.gray)\n",
        "plt.show()"
      ],
      "metadata": {
        "colab": {
          "base_uri": "https://localhost:8080/",
          "height": 275
        },
        "id": "qNCi2aSovFdT",
        "outputId": "a514b631-050d-413a-c23c-178cb204b0d2"
      },
      "execution_count": null,
      "outputs": [
        {
          "output_type": "display_data",
          "data": {
            "text/plain": [
              "<Figure size 288x288 with 1 Axes>"
            ],
            "image/png": "[encoded data removed]"
          },
          "metadata": {
            "needs_background": "light"
          }
        }
      ]
    },
    {
      "cell_type": "markdown",
      "source": [
        "3.6 다중 레이블 분류"
      ],
      "metadata": {
        "id": "3dF1zTouEa8B"
      }
    },
    {
      "cell_type": "code",
      "source": [
        "from sklearn.neighbors import KNeighborsClassifier, kneighbors_graph\n",
        "\n",
        "y_train_large = (y_train >= 7)\n",
        "y_train_odd = (y_train % 2 == 1)\n",
        "y_multilabel =np.c_[y_train_large, y_train_odd]\n",
        "\n",
        "knn_clf = KNeighborsClassifier()\n",
        "knn_clf.fit(X_train, y_multilabel)"
      ],
      "metadata": {
        "colab": {
          "base_uri": "https://localhost:8080/"
        },
        "id": "cxBKhAZjvXdX",
        "outputId": "f826fce6-f214-4ba2-92fa-d888c27140af"
      },
      "execution_count": null,
      "outputs": [
        {
          "output_type": "execute_result",
          "data": {
            "text/plain": [
              "KNeighborsClassifier()"
            ]
          },
          "metadata": {},
          "execution_count": 61
        }
      ]
    },
    {
      "cell_type": "code",
      "source": [
        "knn_clf.predict([some_digit])"
      ],
      "metadata": {
        "colab": {
          "base_uri": "https://localhost:8080/"
        },
        "id": "Fa5PWaN0vt5s",
        "outputId": "6b827cad-afb1-4b09-dbd0-5540ef772596"
      },
      "execution_count": null,
      "outputs": [
        {
          "output_type": "execute_result",
          "data": {
            "text/plain": [
              "array([[False,  True]])"
            ]
          },
          "metadata": {},
          "execution_count": 62
        }
      ]
    },
    {
      "cell_type": "markdown",
      "source": [
        "3.7 다중 출력 분류"
      ],
      "metadata": {
        "id": "yEULZaj5GNIb"
      }
    },
    {
      "cell_type": "code",
      "source": [
        "noise = np.random.randint(0, 100, (len(X_train), 784))\n",
        "X_train_mod = X_train + noise\n",
        "noise = np.random.randint(0, 100, (len(X_test), 784))\n",
        "X_test_mod = X_test + noise\n",
        "y_train_mod = X_train\n",
        "y_test_mod = X_test"
      ],
      "metadata": {
        "id": "gssYLo0CG0v2"
      },
      "execution_count": null,
      "outputs": []
    },
    {
      "cell_type": "code",
      "source": [
        "some_index = 0\n",
        "plt.subplot(121); plot_digit(X_test_mod[some_index])\n",
        "plt.subplot(122); plot_digit(y_test_mod[some_index])\n",
        "save_fig(\"noisy_digit_example_plot\")\n",
        "plt.show()"
      ],
      "metadata": {
        "id": "9mIKK9w5G1cr"
      },
      "execution_count": null,
      "outputs": []
    },
    {
      "cell_type": "code",
      "source": [
        "knn_clf.fit(X_train_mod, y_train_mod)\n",
        "clean_digit = knn_clf.predict([X_test_mod[some_index]])\n",
        "plot_digit(clean_digit)\n",
        "save_fig(\"cleaned_digit_example_plot\")"
      ],
      "metadata": {
        "id": "4RMIZKQ7G2r5"
      },
      "execution_count": null,
      "outputs": []
    }
  ],
  "metadata": {
    "colab": {
      "collapsed_sections": [],
      "provenance": []
    },
    "kernelspec": {
      "display_name": "Python 3",
      "name": "python3"
    },
    "language_info": {
      "name": "python"
    }
  },
  "nbformat": 4,
  "nbformat_minor": 0
}